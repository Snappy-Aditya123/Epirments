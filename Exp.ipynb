{
 "cells": [
  {
   "cell_type": "code",
   "execution_count": 9,
   "metadata": {},
   "outputs": [
    {
     "name": "stdout",
     "output_type": "stream",
     "text": [
      "my name is 999\r"
     ]
    }
   ],
   "source": [
    "import time\n",
    "for i in range(1000):\n",
    "    print(f\"my name is {i}\",end=\"\\r\")\n",
    "    time.sleep(0)"
   ]
  },
  {
   "cell_type": "code",
   "execution_count": null,
   "metadata": {},
   "outputs": [],
   "source": [
    "import time\n",
    "\n",
    "for i in range(10):\n",
    "    print(f\"\\rValue: {i}\", end='', flush=True)\n",
    "    time.sleep(1)  # Just for demonstration, to see the updates slowly\n",
    "\n",
    "print(\"\\nDone!\")\n"
   ]
  },
  {
   "cell_type": "code",
   "execution_count": 5,
   "metadata": {},
   "outputs": [
    {
     "name": "stdout",
     "output_type": "stream",
     "text": [
      "Starting... Completed!\n"
     ]
    }
   ],
   "source": [
    "import time\n",
    "\n",
    "print(\"Starting...\", end='')\n",
    "time.sleep(2)\n",
    "print(\" Completed!\")\n"
   ]
  },
  {
   "cell_type": "code",
   "execution_count": 4,
   "metadata": {},
   "outputs": [
    {
     "name": "stdout",
     "output_type": "stream",
     "text": [
      "Starting... Completed!\n"
     ]
    }
   ],
   "source": [
    "import time\n",
    "\n",
    "print(\"Starting...\", end='', flush=True)\n",
    "time.sleep(2)\n",
    "print(\" Completed!\")\n"
   ]
  },
  {
   "cell_type": "code",
   "execution_count": 11,
   "metadata": {},
   "outputs": [
    {
     "name": "stdout",
     "output_type": "stream",
     "text": [
      "Starting\r"
     ]
    }
   ],
   "source": [
    "for i in range(100):\n",
    "    print(\"Starting\",end='\\r')"
   ]
  },
  {
   "cell_type": "code",
   "execution_count": 12,
   "metadata": {},
   "outputs": [
    {
     "name": "stdout",
     "output_type": "stream",
     "text": [
      "Simulation step 0\n",
      "\u001b[H\u001b[JSimulation step 1\n",
      "\u001b[H\u001b[JSimulation step 2\n",
      "\u001b[H\u001b[JSimulation step 3\n",
      "\u001b[H\u001b[JSimulation step 4\n",
      "\u001b[H\u001b[JSimulation step 5\n",
      "\u001b[H\u001b[JSimulation step 6\n",
      "\u001b[H\u001b[JSimulation step 7\n",
      "\u001b[H\u001b[JSimulation step 8\n",
      "\u001b[H\u001b[JSimulation step 9\n",
      "\u001b[H\u001b[J"
     ]
    }
   ],
   "source": [
    "import time\n",
    "\n",
    "def simulate():\n",
    "    for i in range(10):\n",
    "        print(f\"Simulation step {i}\")\n",
    "        time.sleep(0.5)  # Simulate some process or change\n",
    "        # Clear the screen before printing the next step\n",
    "        print(\"\\033[H\\033[J\", end='')  # ANSI escape sequence to clear the screen\n",
    "\n",
    "simulate()\n"
   ]
  },
  {
   "cell_type": "code",
   "execution_count": 13,
   "metadata": {},
   "outputs": [],
   "source": [
    "import time\n",
    "import random\n",
    "\n",
    "def initialize_grid(size):\n",
    "    return [[random.choice([0, 1]) for _ in range(size)] for _ in range(size)]\n",
    "\n",
    "def print_grid(grid):\n",
    "    for row in grid:\n",
    "        print(' '.join(['*' if cell else ' ' for cell in row]))\n",
    "    print('\\n')\n",
    "\n",
    "def game_of_life(size, steps):\n",
    "    grid = initialize_grid(size)\n",
    "    for _ in range(steps):\n",
    "        print_grid(grid)\n",
    "        new_grid = [[0 for _ in range(size)] for _ in range(size)]\n",
    "        for i in range(size):\n",
    "            for j in range(size):\n",
    "                live_neighbors = sum(grid[(i + x) % size][(j + y) % size] for x in (-1, 0, 1) for y in (-1, 0, 1) if (x != 0 or y != 0))\n",
    "                if grid[i][j] == 1 and live_neighbors < 2 or live_neighbors > 3:\n",
    "                    new_grid[i][j] = 0\n",
    "                elif grid[i][j] == 0 and live_neighbors == 3:\n",
    "                    new_grid[i][j] = 1\n",
    "                else:\n",
    "                    new_grid[i][j] = grid[i][j]\n",
    "        grid = new_grid\n",
    "        time.sleep(0.5)\n"
   ]
  },
  {
   "cell_type": "code",
   "execution_count": 16,
   "metadata": {},
   "outputs": [
    {
     "name": "stdout",
     "output_type": "stream",
     "text": [
      ". . . . . . . . . *\r"
     ]
    }
   ],
   "source": [
    "import time\n",
    "\n",
    "def simulate_car_movement():\n",
    "    parking_lot_size = 10\n",
    "    parking_lot = ['.'] * parking_lot_size\n",
    "\n",
    "    for i in range(parking_lot_size * 2):\n",
    "        print(' '.join(parking_lot),end='\\r')\n",
    "        time.sleep(0.5)\n",
    "\n",
    "        if i < parking_lot_size:\n",
    "            parking_lot[i] = '*'\n",
    "        else:\n",
    "            parking_lot[i - parking_lot_size] = '.'\n",
    "\n",
    "# Call the function to simulate car movement within the parking lot\n",
    "simulate_car_movement()\n",
    "\n"
   ]
  },
  {
   "cell_type": "code",
   "execution_count": null,
   "metadata": {},
   "outputs": [],
   "source": []
  }
 ],
 "metadata": {
  "kernelspec": {
   "display_name": "Python 3",
   "language": "python",
   "name": "python3"
  },
  "language_info": {
   "codemirror_mode": {
    "name": "ipython",
    "version": 3
   },
   "file_extension": ".py",
   "mimetype": "text/x-python",
   "name": "python",
   "nbconvert_exporter": "python",
   "pygments_lexer": "ipython3",
   "version": "3.11.4"
  }
 },
 "nbformat": 4,
 "nbformat_minor": 2
}

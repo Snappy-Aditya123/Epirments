{
 "cells": [
  {
   "cell_type": "code",
   "execution_count": 1,
   "metadata": {},
   "outputs": [
    {
     "name": "stdout",
     "output_type": "stream",
     "text": [
      "my name is 61\r"
     ]
    },
    {
     "ename": "KeyboardInterrupt",
     "evalue": "",
     "output_type": "error",
     "traceback": [
      "\u001b[1;31m---------------------------------------------------------------------------\u001b[0m",
      "\u001b[1;31mKeyboardInterrupt\u001b[0m                         Traceback (most recent call last)",
      "Cell \u001b[1;32mIn[1], line 4\u001b[0m\n\u001b[0;32m      2\u001b[0m \u001b[38;5;28;01mfor\u001b[39;00m i \u001b[38;5;129;01min\u001b[39;00m \u001b[38;5;28mrange\u001b[39m(\u001b[38;5;241m1000\u001b[39m):\n\u001b[0;32m      3\u001b[0m     \u001b[38;5;28mprint\u001b[39m(\u001b[38;5;124mf\u001b[39m\u001b[38;5;124m\"\u001b[39m\u001b[38;5;124mmy name is \u001b[39m\u001b[38;5;132;01m{\u001b[39;00mi\u001b[38;5;132;01m}\u001b[39;00m\u001b[38;5;124m\"\u001b[39m,end\u001b[38;5;241m=\u001b[39m\u001b[38;5;124m\"\u001b[39m\u001b[38;5;130;01m\\r\u001b[39;00m\u001b[38;5;124m\"\u001b[39m)\n\u001b[1;32m----> 4\u001b[0m     time\u001b[38;5;241m.\u001b[39msleep(\u001b[38;5;241m1\u001b[39m)\n",
      "\u001b[1;31mKeyboardInterrupt\u001b[0m: "
     ]
    }
   ],
   "source": [
    "import time\n",
    "for i in range(1000):\n",
    "    print(f\"my name is {i}\",end=\"\\r\")\n",
    "    time.sleep(1)"
   ]
  },
  {
   "cell_type": "code",
   "execution_count": null,
   "metadata": {},
   "outputs": [],
   "source": [
    "import time\n",
    "\n",
    "for i in range(10):\n",
    "    print(f\"\\rValue: {i}\", end='', flush=True)\n",
    "    time.sleep(1)  # Just for demonstration, to see the updates slowly\n",
    "\n",
    "print(\"\\nDone!\")\n"
   ]
  },
  {
   "cell_type": "code",
   "execution_count": 5,
   "metadata": {},
   "outputs": [
    {
     "name": "stdout",
     "output_type": "stream",
     "text": [
      "Starting... Completed!\n"
     ]
    }
   ],
   "source": [
    "import time\n",
    "\n",
    "print(\"Starting...\", end='')\n",
    "time.sleep(2)\n",
    "print(\" Completed!\")\n"
   ]
  },
  {
   "cell_type": "code",
   "execution_count": 4,
   "metadata": {},
   "outputs": [
    {
     "name": "stdout",
     "output_type": "stream",
     "text": [
      "Starting... Completed!\n"
     ]
    }
   ],
   "source": [
    "import time\n",
    "\n",
    "print(\"Starting...\", end='', flush=True)\n",
    "time.sleep(2)\n",
    "print(\" Completed!\")\n"
   ]
  },
  {
   "cell_type": "code",
   "execution_count": 11,
   "metadata": {},
   "outputs": [
    {
     "name": "stdout",
     "output_type": "stream",
     "text": [
      "Starting\r"
     ]
    }
   ],
   "source": [
    "for i in range(100):\n",
    "    print(\"Starting\",end='\\r')"
   ]
  },
  {
   "cell_type": "code",
   "execution_count": 12,
   "metadata": {},
   "outputs": [
    {
     "name": "stdout",
     "output_type": "stream",
     "text": [
      "Simulation step 0\n",
      "\u001b[H\u001b[JSimulation step 1\n",
      "\u001b[H\u001b[JSimulation step 2\n",
      "\u001b[H\u001b[JSimulation step 3\n",
      "\u001b[H\u001b[JSimulation step 4\n",
      "\u001b[H\u001b[JSimulation step 5\n",
      "\u001b[H\u001b[JSimulation step 6\n",
      "\u001b[H\u001b[JSimulation step 7\n",
      "\u001b[H\u001b[JSimulation step 8\n",
      "\u001b[H\u001b[JSimulation step 9\n",
      "\u001b[H\u001b[J"
     ]
    }
   ],
   "source": [
    "import time\n",
    "\n",
    "def simulate():\n",
    "    for i in range(10):\n",
    "        print(f\"Simulation step {i}\")\n",
    "        time.sleep(0.5)  # Simulate some process or change\n",
    "        # Clear the screen before printing the next step\n",
    "        print(\"\\033[H\\033[J\", end='')  # ANSI escape sequence to clear the screen\n",
    "\n",
    "simulate()\n"
   ]
  },
  {
   "cell_type": "code",
   "execution_count": 13,
   "metadata": {},
   "outputs": [],
   "source": [
    "import time\n",
    "import random\n",
    "\n",
    "def initialize_grid(size):\n",
    "    return [[random.choice([0, 1]) for _ in range(size)] for _ in range(size)]\n",
    "\n",
    "def print_grid(grid):\n",
    "    for row in grid:\n",
    "        print(' '.join(['*' if cell else ' ' for cell in row]))\n",
    "    print('\\n')\n",
    "\n",
    "def game_of_life(size, steps):\n",
    "    grid = initialize_grid(size)\n",
    "    for _ in range(steps):\n",
    "        print_grid(grid)\n",
    "        new_grid = [[0 for _ in range(size)] for _ in range(size)]\n",
    "        for i in range(size):\n",
    "            for j in range(size):\n",
    "                live_neighbors = sum(grid[(i + x) % size][(j + y) % size] for x in (-1, 0, 1) for y in (-1, 0, 1) if (x != 0 or y != 0))\n",
    "                if grid[i][j] == 1 and live_neighbors < 2 or live_neighbors > 3:\n",
    "                    new_grid[i][j] = 0\n",
    "                elif grid[i][j] == 0 and live_neighbors == 3:\n",
    "                    new_grid[i][j] = 1\n",
    "                else:\n",
    "                    new_grid[i][j] = grid[i][j]\n",
    "        grid = new_grid\n",
    "        time.sleep(0.5)\n"
   ]
  },
  {
   "cell_type": "code",
   "execution_count": 16,
   "metadata": {},
   "outputs": [
    {
     "name": "stdout",
     "output_type": "stream",
     "text": [
      ". . . . . . . . . *\r"
     ]
    }
   ],
   "source": [
    "import time\n",
    "\n",
    "def simulate_car_movement():\n",
    "    parking_lot_size = 10\n",
    "    parking_lot = ['.'] * parking_lot_size\n",
    "\n",
    "    for i in range(parking_lot_size * 2):\n",
    "        print(' '.join(parking_lot),end='\\r')\n",
    "        time.sleep(0.5)\n",
    "\n",
    "        if i < parking_lot_size:\n",
    "            parking_lot[i] = '*'\n",
    "        else:\n",
    "            parking_lot[i - parking_lot_size] = '.'\n",
    "\n",
    "# Call the function to simulate car movement within the parking lot\n",
    "simulate_car_movement()\n",
    "\n"
   ]
  },
  {
   "cell_type": "code",
   "execution_count": null,
   "metadata": {},
   "outputs": [],
   "source": [
    "for i in range(10000000000000):\n",
    "    print(i,end='\\r')"
   ]
  },
  {
   "cell_type": "code",
   "execution_count": 18,
   "metadata": {},
   "outputs": [],
   "source": [
    "class Lane:\n",
    "    def __init__(self,speed,waiting_time,state=0):\n",
    "        self.lane_ = []\n",
    "        self.speed = speed\n",
    "        self.waiting_time = waiting_time\n",
    "        self.state = state\n",
    "\n",
    "    def add_custmor(self,value):\n",
    "        self.lane_.append(value)\n",
    "\n",
    "\n",
    "    def remove_custmor(self,value):\n",
    "        self.lane_.pop(value)\n",
    "        \n",
    "    def display_lane(self):\n",
    "        if self.state == 0:\n",
    "            return \"Closed\"\n",
    "        elif self.state == 1:\n",
    "            return f\"*\" * len(self.lane_)\n",
    "        \n",
    "\n",
    "    \n",
    "\n",
    "\n",
    "class regualr_lane(Lane):\n",
    "    def __init__(self,speed,waiting_time,state=0):\n",
    "        super().__init__(speed,waiting_time,state)\n",
    "        self.lane_type = \"REG\"\n",
    "        self.lane_capacity = 5\n",
    "        self.till = 1\n",
    "    def change_lane_status(self):\n",
    "        if len(self.lane_) == 0:\n",
    "                self.state = \"Closed\"\n",
    "        elif len(self.lane_) < self.lane_capacity:\n",
    "                self.state = \"Open\"\n",
    "        else:\n",
    "             self.state = \"Full\"\n",
    "    \n",
    "class self_service_till(Lane):\n",
    "    def __init__(self,speed,waiting_time,state=0):\n",
    "        super().__init__(speed,waiting_time,state)\n",
    "        self.till = 8\n",
    "        self.lane_capacity = 15\n",
    "        self.lane_type = \"SELF\"\n",
    "    def change_lane_status(self):\n",
    "        if len(self.lane_) == 0:\n",
    "                self.state = \"Closed\"\n",
    "        elif len(self.lane_) < self.lane_capacity:\n",
    "                self.state = \"Open\"\n",
    "        else:\n",
    "             self.state = \"Full\"\n"
   ]
  },
  {
   "cell_type": "markdown",
   "metadata": {},
   "source": [
    "I need to add a lot of functions to this class.\n",
    "I need to Use math functions to make the class likle simulation."
   ]
  },
  {
   "cell_type": "markdown",
   "metadata": {},
   "source": [
    "⁅𝑦^2=(−4)𝑥+40⁆\n"
   ]
  },
  {
   "cell_type": "code",
   "execution_count": 5,
   "metadata": {},
   "outputs": [],
   "source": [
    "import random"
   ]
  },
  {
   "cell_type": "code",
   "execution_count": 40,
   "metadata": {},
   "outputs": [],
   "source": [
    "class Basket:\n",
    "    def __init__(self,time_frame) -> None:\n",
    "        self.time_frame = time_frame\n",
    "        self._Basket_size = self._basket_size()\n",
    "    def _basket_size(self):\n",
    "        if self.time_frame == 1:\n",
    "            self.Basket_size = random.randint(1,11)\n",
    "        else:\n",
    "            if random.randint(0,10) < 5:\n",
    "                self.Basket_size =   self.time_frame * random.randint(10,100) * 0.3\n",
    "            if random.randint(0,10) > 5:\n",
    "                self.Basket_size =   self.time_frame * random.randint(10,100) * 0.7\n",
    "        return self.Basket_size\n",
    "    def get_basket_size(self):\n",
    "        return self._Basket_size\n",
    "    \n",
    "    \n",
    "\n",
    "class Customr:\n",
    "    def __init__(self,time_frame,lane=None):\n",
    "        self.time_frame = time_frame\n",
    "        self.basket = Basket(time_frame)\n",
    "        self.lottery_winner = 0\n",
    "        self.lane = lane\n",
    "        self._check_out_time_REG = None\n",
    "        self._check_out_time_SELF = None\n",
    "    def Lottery_winner(self):\n",
    "        if self.basket.Basket_size < 10:\n",
    "            pass\n",
    "        elif self.basket.Basket_size >= 10:\n",
    "            if random.randint(0,100) > 90:\n",
    "                self.lottery_winner = 1\n",
    "            else:\n",
    "                pass\n",
    "    def Check_out_time(self):\n",
    "        self._check_out_time_REG = 4 * self.basket.get_basket_size() \n",
    "        self._check_out_time_SELF = 6 * self.basket.get_basket_size()\n",
    "        return [self._check_out_time_REG, self._check_out_time_SELF]\n",
    "    def Custmore_data_show(self):\n",
    "        return f\"\"\"\n",
    "                C1 -> items in basket: {self.basket.get_basket_size()}\n",
    "                      time to process basket at cashier till: {self.Check_out_time()[0]}\n",
    "                      time to process basket at self service till: {self.Lottery_winner()[1]}\n",
    "               \"\"\"\n",
    "\n",
    "        "
   ]
  },
  {
   "cell_type": "code",
   "execution_count": 19,
   "metadata": {},
   "outputs": [],
   "source": [
    "lane1 = regualr_lane(lane_size=0,speed=0,waiting_time=0,state=0)\n",
    "lane2 = regualr_lane(lane_size=10,speed=0,waiting_time=0,state=1)\n",
    "lane3 = regualr_lane(lane_size=0,speed=0,waiting_time=0,state=0)\n",
    "lane4 = regualr_lane(lane_size=0,speed=0,waiting_time=0,state=0)"
   ]
  },
  {
   "cell_type": "markdown",
   "metadata": {},
   "source": [
    "#simulation \n"
   ]
  },
  {
   "cell_type": "code",
   "execution_count": null,
   "metadata": {},
   "outputs": [],
   "source": [
    "#simulation this will take the lane and the customr class to simulate the code\n",
    "class customr_managmebt:\n",
    "    def __init__(self,time_frame):\n",
    "        self.custmor_pool = []\n",
    "        self.time_frame = time_frame\n",
    "    def create_custmore_add(self):\n",
    "        for i in range(self.time_frame):\n",
    "            self.custmor_pool.append(Customr(self.time_frame))\n",
    "    def customr_done_shopping(self,rand_value):\n",
    "        done_shopping = []\n",
    "        for i in range(rand_value):\n",
    "            done_shopping.append(self.custmor_pool.pop(random.randint(0,len(self.custmor_pool)-1)))   \n",
    "        return done_shopping\n",
    "        \n",
    "class lane_managmebt:\n",
    "    def __init__(self,customr_custom):\n",
    "        self.customr_custom = customr_custom\n",
    "        self.L1 = 0\n",
    "        self.L2 = 0\n",
    "        self.L3 = 0\n",
    "        self.L4 = 0\n",
    "        self.L5 = 0\n",
    "        self.L6 = 0\n",
    "        \n",
    "    "
   ]
  },
  {
   "cell_type": "code",
   "execution_count": 4,
   "metadata": {},
   "outputs": [
    {
     "name": "stdout",
     "output_type": "stream",
     "text": [
      "[11, 90, 12, 17, 15, 5]\n",
      "[11, 12, 90, 17, 15, 5]\n",
      "[11, 12, 17, 90, 15, 5]\n",
      "[11, 12, 17, 15, 90, 5]\n",
      "[11, 12, 17, 15, 5, 90]\n",
      "[11, 12, 17, 15, 5, 90]\n",
      "[11, 12, 17, 15, 5, 90]\n",
      "[11, 12, 15, 17, 5, 90]\n",
      "[11, 12, 15, 5, 17, 90]\n",
      "[11, 12, 15, 5, 17, 90]\n",
      "[11, 12, 15, 5, 17, 90]\n",
      "[11, 12, 5, 15, 17, 90]\n",
      "[11, 12, 5, 15, 17, 90]\n",
      "[11, 5, 12, 15, 17, 90]\n",
      "[5, 11, 12, 15, 17, 90]\n",
      "Sorted array: [5, 11, 12, 15, 17, 90]\n"
     ]
    }
   ],
   "source": [
    "def bubble_sort(arr):\n",
    "    n = len(arr)\n",
    "    \n",
    "    for i in range(n):\n",
    "        # Flag to optimize the sorting process\n",
    "        swapped = False\n",
    "        \n",
    "        for j in range(0, n-i-1):\n",
    "            # Swap if the element found is greater than the next element\n",
    "            if arr[j] > arr[j+1]:\n",
    "                arr[j], arr[j+1] = arr[j+1], arr[j]\n",
    "                swapped = True\n",
    "            print(arr)\n",
    "        \n",
    "        # If no two elements were swapped in the inner loop, the array is already sorted\n",
    "        if not swapped:\n",
    "            break\n",
    " \n",
    "# Example usage:\n",
    "my_array = [90,11,12,17,15,5]\n",
    "bubble_sort(my_array)\n",
    "\n",
    "print(\"Sorted array:\", my_array)\n"
   ]
  },
  {
   "cell_type": "code",
   "execution_count": 56,
   "metadata": {},
   "outputs": [],
   "source": [
    "import random\n",
    "import math"
   ]
  },
  {
   "cell_type": "code",
   "execution_count": 107,
   "metadata": {},
   "outputs": [],
   "source": [
    "def randomiser(T,N,x):\n",
    "    T = round(random.uniform(0,T),1)\n",
    "    N = random.randint(0,N)\n",
    "    if -(T)*(x**2) + N == 0:\n",
    "        return randomiser(T,N,x)\n",
    "    return -(T)*(x**2) + N"
   ]
  },
  {
   "cell_type": "code",
   "execution_count": 134,
   "metadata": {},
   "outputs": [
    {
     "data": {
      "text/plain": [
       "2"
      ]
     },
     "execution_count": 134,
     "metadata": {},
     "output_type": "execute_result"
    }
   ],
   "source": [
    "abs(int(randomiser(T=0.4,N=10,x=5)))"
   ]
  },
  {
   "cell_type": "code",
   "execution_count": 152,
   "metadata": {},
   "outputs": [],
   "source": [
    "import time\n",
    "import random\n",
    "import math\n",
    "\n",
    "def randomiser(T,N,x):\n",
    "    T = round(random.uniform(0,T),1)\n",
    "    N = random.randint(0,N)\n",
    "    return -(T)*(x**2) + N\n",
    "\n",
    "class Lane:\n",
    "    def __init__(self,speed,waiting_time,state=0):\n",
    "        self.lane_ = []\n",
    "        self.speed = speed\n",
    "        self.waiting_time = waiting_time\n",
    "        self.state = state\n",
    "\n",
    "    def add_custmor(self,value):\n",
    "        self.lane_.append(value)\n",
    "        print(len(self.lane_))\n",
    "\n",
    "\n",
    "    def remove_custmor(self,value):\n",
    "        self.lane_.remove(value)\n",
    "        \n",
    "    def display_lane(self):\n",
    "        if self.state == 0:\n",
    "            return \"Closed\"\n",
    "        elif self.state == 1:\n",
    "            return f\"*\" * len(self.lane_)\n",
    "        \n",
    "\n",
    "    \n",
    "\n",
    "\n",
    "class regualr_lane(Lane):\n",
    "    def __init__(self,speed,waiting_time,state=0):\n",
    "        super().__init__(speed,waiting_time,state)\n",
    "        self.lane_type = \"REG\"\n",
    "        self.lane_capacity = 5\n",
    "        self.till = 1\n",
    "        \n",
    "    def change_lane_status(self):\n",
    "        if len(self.lane_) == 0:\n",
    "                self.state = \"Closed\"\n",
    "        elif len(self.lane_) < self.lane_capacity:\n",
    "                self.state = \"Open\"\n",
    "        else:\n",
    "             self.state = \"Full\"\n",
    "    \n",
    "class self_service_lane(Lane):\n",
    "    def __init__(self,speed,waiting_time,state=0):\n",
    "        super().__init__(speed,waiting_time,state)\n",
    "        self.till = 8\n",
    "        self.lane_capacity = 15\n",
    "        self.lane_type = \"SELF\"\n",
    "    def change_lane_status(self):\n",
    "        if len(self.lane_) == 0:\n",
    "                self.state = \"Closed\"\n",
    "        elif len(self.lane_) < self.lane_capacity:\n",
    "                self.state = \"Open\"\n",
    "        else:\n",
    "             self.state = \"Full\"\n",
    "\n",
    "\n",
    "\n",
    "\n",
    "\n",
    "import random\n",
    "\n",
    "class Basket:\n",
    "    def __init__(self) -> None:\n",
    "        self._Basket_size = self._basket_size()\n",
    "\n",
    "    def _basket_size(self):\n",
    "        return random.randint(0,31)\n",
    "            \n",
    "    def get_basket_size(self):\n",
    "        return self._Basket_size\n",
    "\n",
    "    \n",
    "    \n",
    "class Customr:\n",
    "    def __init__(self,lane=None):\n",
    "        self.basket = Basket()\n",
    "        self.lottery_winner = 0\n",
    "        self.lane = lane\n",
    "        self._check_out_time_REG = None\n",
    "        self._check_out_time_SELF = None\n",
    "    def Lottery_winner(self):\n",
    "        if self.basket.get_basket_size() < 10:\n",
    "            pass\n",
    "        elif self.basket.get_basket_size() >= 10:\n",
    "            if random.randint(0,100) > 90:\n",
    "                self.lottery_winner = 1\n",
    "            else:\n",
    "                pass\n",
    "    def Check_out_time(self):\n",
    "        self._check_out_time_REG = 4 * self.basket.get_basket_size() \n",
    "        self._check_out_time_SELF = 6 * self.basket.get_basket_size()\n",
    "        return [self._check_out_time_REG, self._check_out_time_SELF]\n",
    "    def Custmore_data_show(self):\n",
    "        return f\"\"\"\n",
    "                      items in basket: {self.basket.get_basket_size()}\n",
    "                      time to process basket at cashier till: {self.Check_out_time()[0]} seconds\n",
    "                      time to process basket at self service till: {self.Check_out_time()[1]} seconds\n",
    "               \"\"\"\n",
    "\n",
    "\n",
    "\n",
    "\n"
   ]
  },
  {
   "cell_type": "code",
   "execution_count": 12,
   "metadata": {},
   "outputs": [],
   "source": [
    "C1 = Customr(2)"
   ]
  },
  {
   "cell_type": "code",
   "execution_count": 14,
   "metadata": {},
   "outputs": [
    {
     "name": "stdout",
     "output_type": "stream",
     "text": [
      "\n",
      "                      items in basket: 100.8\n",
      "                      time to process basket at cashier till: 403.2 seconds\n",
      "                      time to process basket at self service till: 604.8 seconds\n",
      "               \n"
     ]
    }
   ],
   "source": [
    "C1.Lottery_winner()\n",
    "print(C1.Custmore_data_show())"
   ]
  },
  {
   "cell_type": "code",
   "execution_count": 3,
   "metadata": {},
   "outputs": [],
   "source": [
    "class customr_managmebt:\n",
    "    def __init__(self,time_frame):\n",
    "        self.custmor_pool = []\n",
    "        self.time_frame = time_frame\n",
    "        self.rand_value = random.randint(0,10)\n",
    "    def create_custmore_add(self):\n",
    "        if self.time_frame == 1:\n",
    "            N = random.randint(0,50)\n",
    "        elif 0.5 < self.time_frame < 1:\n",
    "            N = random.randint(50,100)\n",
    "        else:\n",
    "            N = random.randint(100,200)\n",
    "            \n",
    "        for i in range(N):\n",
    "            self.custmor_pool.append(Customr())\n",
    "\n",
    "    def customr_done_shopping(self):\n",
    "        done_shopping = []\n",
    "        for i in range(self.rand_value):\n",
    "            done_shopping.append(self.custmor_pool.pop(random.randint(0,len(self.custmor_pool)-1)))   \n",
    "        return done_shopping\n",
    "        \n",
    "\n",
    "class lane_management():\n",
    "    def __init__(self) -> None:\n",
    "        self.L1 = regualr_lane()\n",
    "        self.L2 = regualr_lane()\n",
    "        self.L3 = regualr_lane()\n",
    "        self.L4 = regualr_lane()\n",
    "        self.L5 = regualr_lane()\n",
    "        self.L6 = self_service_lane()\n",
    "\n",
    "\n",
    "class Simulation:\n",
    "    def __init__(self) -> None:\n",
    "        pass\n",
    "\n",
    "\n"
   ]
  }
 ],
 "metadata": {
  "kernelspec": {
   "display_name": "Python 3",
   "language": "python",
   "name": "python3"
  },
  "language_info": {
   "codemirror_mode": {
    "name": "ipython",
    "version": 3
   },
   "file_extension": ".py",
   "mimetype": "text/x-python",
   "name": "python",
   "nbconvert_exporter": "python",
   "pygments_lexer": "ipython3",
   "version": "3.11.4"
  }
 },
 "nbformat": 4,
 "nbformat_minor": 2
}
